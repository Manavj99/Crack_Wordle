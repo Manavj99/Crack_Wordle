{
 "cells": [
  {
   "cell_type": "code",
   "execution_count": 8,
   "id": "8645cf87-b0ad-4383-975f-06b3ffadff74",
   "metadata": {},
   "outputs": [
    {
     "name": "stdout",
     "output_type": "stream",
     "text": [
      "Maximum 6 Attempts\n",
      "Guess 1: arose\n"
     ]
    },
    {
     "name": "stdin",
     "output_type": "stream",
     "text": [
      "Enter the output of the word (G/Y/B):  BBGBB\n"
     ]
    },
    {
     "name": "stdout",
     "output_type": "stream",
     "text": [
      "Guess 2: clout\n"
     ]
    },
    {
     "name": "stdin",
     "output_type": "stream",
     "text": [
      "Enter the output of the word (G/Y/B):  BGGBB\n"
     ]
    },
    {
     "name": "stdout",
     "output_type": "stream",
     "text": [
      "Guess 3: blond\n"
     ]
    },
    {
     "name": "stdin",
     "output_type": "stream",
     "text": [
      "Enter the output of the word (G/Y/B):  GGGYB\n"
     ]
    },
    {
     "name": "stdout",
     "output_type": "stream",
     "text": [
      "Cracked! The word is: blown\n"
     ]
    }
   ],
   "source": [
    "import random\n",
    "from collections import Counter\n",
    "\n",
    "# Load the list of 5-letter words\n",
    "with open(\"words.txt\", \"r\") as f:\n",
    "    words = []\n",
    "    for line in f:\n",
    "        words.append(line.strip())\n",
    "print(\"Maximum 6 Attempts\")\n",
    "\n",
    "def evaluate_guess(guess, target):\n",
    "    result = []\n",
    "    for i, c in enumerate(guess):\n",
    "        if c == target[i]:\n",
    "            result.append(\"G\")  # Green:If the letter is present and is correct spot\n",
    "        elif c in target:\n",
    "            result.append(\"Y\")  # Yellow:If the letter is correct but in incorrect spot\n",
    "        else:\n",
    "            result.append(\"B\")  # Black:If the letter is not present\n",
    "    return \"\".join(result)\n",
    "\n",
    "def solve_wordle():\n",
    "    possible_words = words[:]\n",
    "    eliminated_letters = set()\n",
    "    # Here we calculate the frequency of each letter in the entire word list\n",
    "    letter_freq = Counter(\"\".join(words))\n",
    "    \n",
    "    for i in range(6):\n",
    "        if i == 0:\n",
    "            # Chosen word will be all distinct and the most frequent letters\n",
    "            best_guess = max(possible_words, key=lambda word: sum(letter_freq[c] for c in set(word)))\n",
    "        else:\n",
    "            # Avoiding letters which are incorrect\n",
    "            available_letters = [c for c in letter_freq if c not in eliminated_letters and any(c in word for word in possible_words)]\n",
    "            best_guess = max(possible_words, key=lambda word: sum(letter_freq[c] for c in set(word) if c in available_letters))\n",
    "        \n",
    "        guess = best_guess\n",
    "        print(f\"Guess {i+1}: {guess}\")\n",
    "        while True:\n",
    "            result = input(\"Enter the output of the word (G/Y/B): \")\n",
    "            if set(result).issubset({'G', 'Y', 'B'}) and len(result) == 5:\n",
    "                break\n",
    "            else:\n",
    "                print(\"The result is invalid. Please enter a string of 5 characters using G, Y, or B.\")\n",
    "        \n",
    "        if result == \"BBBBB\":\n",
    "            eliminated_letters.update(set(guess))\n",
    "        \n",
    "        possible_words = [word for word in possible_words if evaluate_guess(guess, word) == result]\n",
    "        \n",
    "        if not possible_words:\n",
    "            print(\"No word matches the given output. Starting from the beginning.\")\n",
    "            return solve_wordle()\n",
    "        \n",
    "        if len(possible_words) == 1:\n",
    "            print(f\"Cracked! The word is: {possible_words[0]}\")\n",
    "            return\n",
    "    print(\"Failed to guess the word\")\n",
    "solve_wordle()"
   ]
  },
  {
   "cell_type": "code",
   "execution_count": null,
   "id": "b130712c-3cd8-4c6d-9b79-430db5885a75",
   "metadata": {},
   "outputs": [],
   "source": []
  }
 ],
 "metadata": {
  "kernelspec": {
   "display_name": "Python 3 (ipykernel)",
   "language": "python",
   "name": "python3"
  },
  "language_info": {
   "codemirror_mode": {
    "name": "ipython",
    "version": 3
   },
   "file_extension": ".py",
   "mimetype": "text/x-python",
   "name": "python",
   "nbconvert_exporter": "python",
   "pygments_lexer": "ipython3",
   "version": "3.11.3"
  }
 },
 "nbformat": 4,
 "nbformat_minor": 5
}
